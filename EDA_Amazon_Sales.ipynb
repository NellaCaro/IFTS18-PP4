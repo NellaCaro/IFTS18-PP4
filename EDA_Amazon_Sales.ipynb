{
 "cells": [
  {
   "cell_type": "markdown",
   "id": "2a57a3d6",
   "metadata": {},
   "source": [
    "# EDA: Amazon Sale Report\n",
    "\n",
    "Este notebook realiza la limpieza, análisis descriptivo, visualización y conclusiones sobre el dataset **Amazon Sale Report.csv**."
   ]
  },
  {
   "cell_type": "code",
   "execution_count": 1,
   "id": "57d5707d",
   "metadata": {},
   "outputs": [
    {
     "name": "stdout",
     "output_type": "stream",
     "text": [
      "Shape: (128975, 24)\n"
     ]
    },
    {
     "data": {
      "text/html": [
       "<div>\n",
       "<style scoped>\n",
       "    .dataframe tbody tr th:only-of-type {\n",
       "        vertical-align: middle;\n",
       "    }\n",
       "\n",
       "    .dataframe tbody tr th {\n",
       "        vertical-align: top;\n",
       "    }\n",
       "\n",
       "    .dataframe thead th {\n",
       "        text-align: right;\n",
       "    }\n",
       "</style>\n",
       "<table border=\"1\" class=\"dataframe\">\n",
       "  <thead>\n",
       "    <tr style=\"text-align: right;\">\n",
       "      <th></th>\n",
       "      <th>index</th>\n",
       "      <th>Order ID</th>\n",
       "      <th>Date</th>\n",
       "      <th>Status</th>\n",
       "      <th>Fulfilment</th>\n",
       "      <th>Sales Channel</th>\n",
       "      <th>ship-service-level</th>\n",
       "      <th>Style</th>\n",
       "      <th>SKU</th>\n",
       "      <th>Category</th>\n",
       "      <th>Size</th>\n",
       "      <th>ASIN</th>\n",
       "      <th>Courier Status</th>\n",
       "      <th>Qty</th>\n",
       "      <th>currency</th>\n",
       "      <th>Amount</th>\n",
       "      <th>ship-city</th>\n",
       "      <th>ship-state</th>\n",
       "      <th>ship-postal-code</th>\n",
       "      <th>ship-country</th>\n",
       "      <th>promotion-ids</th>\n",
       "      <th>B2B</th>\n",
       "      <th>fulfilled-by</th>\n",
       "      <th>Unnamed: 22</th>\n",
       "    </tr>\n",
       "  </thead>\n",
       "  <tbody>\n",
       "    <tr>\n",
       "      <th>0</th>\n",
       "      <td>0</td>\n",
       "      <td>405-8078784-5731545</td>\n",
       "      <td>04-30-22</td>\n",
       "      <td>Cancelled</td>\n",
       "      <td>Merchant</td>\n",
       "      <td>Amazon.in</td>\n",
       "      <td>Standard</td>\n",
       "      <td>SET389</td>\n",
       "      <td>SET389-KR-NP-S</td>\n",
       "      <td>Set</td>\n",
       "      <td>S</td>\n",
       "      <td>B09KXVBD7Z</td>\n",
       "      <td>NaN</td>\n",
       "      <td>0</td>\n",
       "      <td>INR</td>\n",
       "      <td>647.62</td>\n",
       "      <td>MUMBAI</td>\n",
       "      <td>MAHARASHTRA</td>\n",
       "      <td>400081.0</td>\n",
       "      <td>IN</td>\n",
       "      <td>NaN</td>\n",
       "      <td>False</td>\n",
       "      <td>Easy Ship</td>\n",
       "      <td>NaN</td>\n",
       "    </tr>\n",
       "    <tr>\n",
       "      <th>1</th>\n",
       "      <td>1</td>\n",
       "      <td>171-9198151-1101146</td>\n",
       "      <td>04-30-22</td>\n",
       "      <td>Shipped - Delivered to Buyer</td>\n",
       "      <td>Merchant</td>\n",
       "      <td>Amazon.in</td>\n",
       "      <td>Standard</td>\n",
       "      <td>JNE3781</td>\n",
       "      <td>JNE3781-KR-XXXL</td>\n",
       "      <td>kurta</td>\n",
       "      <td>3XL</td>\n",
       "      <td>B09K3WFS32</td>\n",
       "      <td>Shipped</td>\n",
       "      <td>1</td>\n",
       "      <td>INR</td>\n",
       "      <td>406.00</td>\n",
       "      <td>BENGALURU</td>\n",
       "      <td>KARNATAKA</td>\n",
       "      <td>560085.0</td>\n",
       "      <td>IN</td>\n",
       "      <td>Amazon PLCC Free-Financing Universal Merchant ...</td>\n",
       "      <td>False</td>\n",
       "      <td>Easy Ship</td>\n",
       "      <td>NaN</td>\n",
       "    </tr>\n",
       "    <tr>\n",
       "      <th>2</th>\n",
       "      <td>2</td>\n",
       "      <td>404-0687676-7273146</td>\n",
       "      <td>04-30-22</td>\n",
       "      <td>Shipped</td>\n",
       "      <td>Amazon</td>\n",
       "      <td>Amazon.in</td>\n",
       "      <td>Expedited</td>\n",
       "      <td>JNE3371</td>\n",
       "      <td>JNE3371-KR-XL</td>\n",
       "      <td>kurta</td>\n",
       "      <td>XL</td>\n",
       "      <td>B07WV4JV4D</td>\n",
       "      <td>Shipped</td>\n",
       "      <td>1</td>\n",
       "      <td>INR</td>\n",
       "      <td>329.00</td>\n",
       "      <td>NAVI MUMBAI</td>\n",
       "      <td>MAHARASHTRA</td>\n",
       "      <td>410210.0</td>\n",
       "      <td>IN</td>\n",
       "      <td>IN Core Free Shipping 2015/04/08 23-48-5-108</td>\n",
       "      <td>True</td>\n",
       "      <td>NaN</td>\n",
       "      <td>NaN</td>\n",
       "    </tr>\n",
       "    <tr>\n",
       "      <th>3</th>\n",
       "      <td>3</td>\n",
       "      <td>403-9615377-8133951</td>\n",
       "      <td>04-30-22</td>\n",
       "      <td>Cancelled</td>\n",
       "      <td>Merchant</td>\n",
       "      <td>Amazon.in</td>\n",
       "      <td>Standard</td>\n",
       "      <td>J0341</td>\n",
       "      <td>J0341-DR-L</td>\n",
       "      <td>Western Dress</td>\n",
       "      <td>L</td>\n",
       "      <td>B099NRCT7B</td>\n",
       "      <td>NaN</td>\n",
       "      <td>0</td>\n",
       "      <td>INR</td>\n",
       "      <td>753.33</td>\n",
       "      <td>PUDUCHERRY</td>\n",
       "      <td>PUDUCHERRY</td>\n",
       "      <td>605008.0</td>\n",
       "      <td>IN</td>\n",
       "      <td>NaN</td>\n",
       "      <td>False</td>\n",
       "      <td>Easy Ship</td>\n",
       "      <td>NaN</td>\n",
       "    </tr>\n",
       "    <tr>\n",
       "      <th>4</th>\n",
       "      <td>4</td>\n",
       "      <td>407-1069790-7240320</td>\n",
       "      <td>04-30-22</td>\n",
       "      <td>Shipped</td>\n",
       "      <td>Amazon</td>\n",
       "      <td>Amazon.in</td>\n",
       "      <td>Expedited</td>\n",
       "      <td>JNE3671</td>\n",
       "      <td>JNE3671-TU-XXXL</td>\n",
       "      <td>Top</td>\n",
       "      <td>3XL</td>\n",
       "      <td>B098714BZP</td>\n",
       "      <td>Shipped</td>\n",
       "      <td>1</td>\n",
       "      <td>INR</td>\n",
       "      <td>574.00</td>\n",
       "      <td>CHENNAI</td>\n",
       "      <td>TAMIL NADU</td>\n",
       "      <td>600073.0</td>\n",
       "      <td>IN</td>\n",
       "      <td>NaN</td>\n",
       "      <td>False</td>\n",
       "      <td>NaN</td>\n",
       "      <td>NaN</td>\n",
       "    </tr>\n",
       "  </tbody>\n",
       "</table>\n",
       "</div>"
      ],
      "text/plain": [
       "   index             Order ID      Date                        Status  \\\n",
       "0      0  405-8078784-5731545  04-30-22                     Cancelled   \n",
       "1      1  171-9198151-1101146  04-30-22  Shipped - Delivered to Buyer   \n",
       "2      2  404-0687676-7273146  04-30-22                       Shipped   \n",
       "3      3  403-9615377-8133951  04-30-22                     Cancelled   \n",
       "4      4  407-1069790-7240320  04-30-22                       Shipped   \n",
       "\n",
       "  Fulfilment Sales Channel  ship-service-level    Style              SKU  \\\n",
       "0   Merchant      Amazon.in           Standard   SET389   SET389-KR-NP-S   \n",
       "1   Merchant      Amazon.in           Standard  JNE3781  JNE3781-KR-XXXL   \n",
       "2     Amazon      Amazon.in          Expedited  JNE3371    JNE3371-KR-XL   \n",
       "3   Merchant      Amazon.in           Standard    J0341       J0341-DR-L   \n",
       "4     Amazon      Amazon.in          Expedited  JNE3671  JNE3671-TU-XXXL   \n",
       "\n",
       "        Category Size        ASIN Courier Status  Qty currency  Amount  \\\n",
       "0            Set    S  B09KXVBD7Z            NaN    0      INR  647.62   \n",
       "1          kurta  3XL  B09K3WFS32        Shipped    1      INR  406.00   \n",
       "2          kurta   XL  B07WV4JV4D        Shipped    1      INR  329.00   \n",
       "3  Western Dress    L  B099NRCT7B            NaN    0      INR  753.33   \n",
       "4            Top  3XL  B098714BZP        Shipped    1      INR  574.00   \n",
       "\n",
       "     ship-city   ship-state  ship-postal-code ship-country  \\\n",
       "0       MUMBAI  MAHARASHTRA          400081.0           IN   \n",
       "1    BENGALURU    KARNATAKA          560085.0           IN   \n",
       "2  NAVI MUMBAI  MAHARASHTRA          410210.0           IN   \n",
       "3   PUDUCHERRY   PUDUCHERRY          605008.0           IN   \n",
       "4      CHENNAI   TAMIL NADU          600073.0           IN   \n",
       "\n",
       "                                       promotion-ids    B2B fulfilled-by  \\\n",
       "0                                                NaN  False    Easy Ship   \n",
       "1  Amazon PLCC Free-Financing Universal Merchant ...  False    Easy Ship   \n",
       "2       IN Core Free Shipping 2015/04/08 23-48-5-108   True          NaN   \n",
       "3                                                NaN  False    Easy Ship   \n",
       "4                                                NaN  False          NaN   \n",
       "\n",
       "  Unnamed: 22  \n",
       "0         NaN  \n",
       "1         NaN  \n",
       "2         NaN  \n",
       "3         NaN  \n",
       "4         NaN  "
      ]
     },
     "execution_count": 1,
     "metadata": {},
     "output_type": "execute_result"
    }
   ],
   "source": [
    "import pandas as pd\n",
    "import numpy as np\n",
    "import matplotlib.pyplot as plt\n",
    "\n",
    "# Configuración general\n",
    "pd.set_option('display.max_columns', 200)\n",
    "\n",
    "# Carga de datos\n",
    "df = pd.read_csv('Amazon Sale Report.csv', low_memory=False)\n",
    "print('Shape:', df.shape)\n",
    "df.head()"
   ]
  },
  {
   "cell_type": "markdown",
   "id": "ae187bd3",
   "metadata": {},
   "source": [
    "## Exploración inicial"
   ]
  },
  {
   "cell_type": "code",
   "execution_count": 2,
   "id": "e2d5eed6",
   "metadata": {},
   "outputs": [
    {
     "name": "stdout",
     "output_type": "stream",
     "text": [
      "<class 'pandas.core.frame.DataFrame'>\n",
      "RangeIndex: 128975 entries, 0 to 128974\n",
      "Data columns (total 24 columns):\n",
      " #   Column              Non-Null Count   Dtype  \n",
      "---  ------              --------------   -----  \n",
      " 0   index               128975 non-null  int64  \n",
      " 1   Order ID            128975 non-null  object \n",
      " 2   Date                128975 non-null  object \n",
      " 3   Status              128975 non-null  object \n",
      " 4   Fulfilment          128975 non-null  object \n",
      " 5   Sales Channel       128975 non-null  object \n",
      " 6   ship-service-level  128975 non-null  object \n",
      " 7   Style               128975 non-null  object \n",
      " 8   SKU                 128975 non-null  object \n",
      " 9   Category            128975 non-null  object \n",
      " 10  Size                128975 non-null  object \n",
      " 11  ASIN                128975 non-null  object \n",
      " 12  Courier Status      122103 non-null  object \n",
      " 13  Qty                 128975 non-null  int64  \n",
      " 14  currency            121180 non-null  object \n",
      " 15  Amount              121180 non-null  float64\n",
      " 16  ship-city           128942 non-null  object \n",
      " 17  ship-state          128942 non-null  object \n",
      " 18  ship-postal-code    128942 non-null  float64\n",
      " 19  ship-country        128942 non-null  object \n",
      " 20  promotion-ids       79822 non-null   object \n",
      " 21  B2B                 128975 non-null  bool   \n",
      " 22  fulfilled-by        39277 non-null   object \n",
      " 23  Unnamed: 22         79925 non-null   object \n",
      "dtypes: bool(1), float64(2), int64(2), object(19)\n",
      "memory usage: 22.8+ MB\n"
     ]
    },
    {
     "data": {
      "text/plain": [
       "None"
      ]
     },
     "metadata": {},
     "output_type": "display_data"
    },
    {
     "data": {
      "text/plain": [
       "fulfilled-by          89698\n",
       "promotion-ids         49153\n",
       "Unnamed: 22           49050\n",
       "currency               7795\n",
       "Amount                 7795\n",
       "Courier Status         6872\n",
       "ship-country             33\n",
       "ship-city                33\n",
       "ship-state               33\n",
       "ship-postal-code         33\n",
       "Sales Channel             0\n",
       "Fulfilment                0\n",
       "Status                    0\n",
       "Date                      0\n",
       "Order ID                  0\n",
       "index                     0\n",
       "Style                     0\n",
       "ship-service-level        0\n",
       "Qty                       0\n",
       "ASIN                      0\n",
       "dtype: int64"
      ]
     },
     "execution_count": 2,
     "metadata": {},
     "output_type": "execute_result"
    }
   ],
   "source": [
    "# Información de columnas y nulos\n",
    "display(df.info())\n",
    "df.isna().sum().sort_values(ascending=False).head(20)"
   ]
  },
  {
   "cell_type": "markdown",
   "id": "ace14375",
   "metadata": {},
   "source": [
    "## Limpieza y preprocesamiento"
   ]
  },
  {
   "cell_type": "code",
   "execution_count": 3,
   "id": "5c623c62",
   "metadata": {},
   "outputs": [
    {
     "name": "stdout",
     "output_type": "stream",
     "text": [
      "Nulos en Amount: 7795\n",
      "Shape después de limpieza: (128975, 23)\n"
     ]
    },
    {
     "data": {
      "text/html": [
       "<div>\n",
       "<style scoped>\n",
       "    .dataframe tbody tr th:only-of-type {\n",
       "        vertical-align: middle;\n",
       "    }\n",
       "\n",
       "    .dataframe tbody tr th {\n",
       "        vertical-align: top;\n",
       "    }\n",
       "\n",
       "    .dataframe thead th {\n",
       "        text-align: right;\n",
       "    }\n",
       "</style>\n",
       "<table border=\"1\" class=\"dataframe\">\n",
       "  <thead>\n",
       "    <tr style=\"text-align: right;\">\n",
       "      <th></th>\n",
       "      <th>index</th>\n",
       "      <th>Order ID</th>\n",
       "      <th>Date</th>\n",
       "      <th>Status</th>\n",
       "      <th>Fulfilment</th>\n",
       "      <th>Sales Channel</th>\n",
       "      <th>ship-service-level</th>\n",
       "      <th>Style</th>\n",
       "      <th>SKU</th>\n",
       "      <th>Category</th>\n",
       "      <th>Size</th>\n",
       "      <th>ASIN</th>\n",
       "      <th>Courier Status</th>\n",
       "      <th>Qty</th>\n",
       "      <th>currency</th>\n",
       "      <th>Amount</th>\n",
       "      <th>ship-city</th>\n",
       "      <th>ship-state</th>\n",
       "      <th>ship-postal-code</th>\n",
       "      <th>ship-country</th>\n",
       "      <th>B2B</th>\n",
       "      <th>fulfilled-by</th>\n",
       "      <th>Amount_is_null</th>\n",
       "    </tr>\n",
       "  </thead>\n",
       "  <tbody>\n",
       "    <tr>\n",
       "      <th>0</th>\n",
       "      <td>0</td>\n",
       "      <td>405-8078784-5731545</td>\n",
       "      <td>2022-04-30</td>\n",
       "      <td>Cancelled</td>\n",
       "      <td>Merchant</td>\n",
       "      <td>Amazon.in</td>\n",
       "      <td>Standard</td>\n",
       "      <td>SET389</td>\n",
       "      <td>SET389-KR-NP-S</td>\n",
       "      <td>Set</td>\n",
       "      <td>S</td>\n",
       "      <td>B09KXVBD7Z</td>\n",
       "      <td>nan</td>\n",
       "      <td>0</td>\n",
       "      <td>INR</td>\n",
       "      <td>647.62</td>\n",
       "      <td>Mumbai</td>\n",
       "      <td>Maharashtra</td>\n",
       "      <td>400081</td>\n",
       "      <td>In</td>\n",
       "      <td>False</td>\n",
       "      <td>Easy Ship</td>\n",
       "      <td>False</td>\n",
       "    </tr>\n",
       "    <tr>\n",
       "      <th>1</th>\n",
       "      <td>1</td>\n",
       "      <td>171-9198151-1101146</td>\n",
       "      <td>2022-04-30</td>\n",
       "      <td>Shipped - Delivered to Buyer</td>\n",
       "      <td>Merchant</td>\n",
       "      <td>Amazon.in</td>\n",
       "      <td>Standard</td>\n",
       "      <td>JNE3781</td>\n",
       "      <td>JNE3781-KR-XXXL</td>\n",
       "      <td>kurta</td>\n",
       "      <td>3XL</td>\n",
       "      <td>B09K3WFS32</td>\n",
       "      <td>Shipped</td>\n",
       "      <td>1</td>\n",
       "      <td>INR</td>\n",
       "      <td>406.00</td>\n",
       "      <td>Bengaluru</td>\n",
       "      <td>Karnataka</td>\n",
       "      <td>560085</td>\n",
       "      <td>In</td>\n",
       "      <td>False</td>\n",
       "      <td>Easy Ship</td>\n",
       "      <td>False</td>\n",
       "    </tr>\n",
       "    <tr>\n",
       "      <th>2</th>\n",
       "      <td>2</td>\n",
       "      <td>404-0687676-7273146</td>\n",
       "      <td>2022-04-30</td>\n",
       "      <td>Shipped</td>\n",
       "      <td>Amazon</td>\n",
       "      <td>Amazon.in</td>\n",
       "      <td>Expedited</td>\n",
       "      <td>JNE3371</td>\n",
       "      <td>JNE3371-KR-XL</td>\n",
       "      <td>kurta</td>\n",
       "      <td>XL</td>\n",
       "      <td>B07WV4JV4D</td>\n",
       "      <td>Shipped</td>\n",
       "      <td>1</td>\n",
       "      <td>INR</td>\n",
       "      <td>329.00</td>\n",
       "      <td>Navi Mumbai</td>\n",
       "      <td>Maharashtra</td>\n",
       "      <td>410210</td>\n",
       "      <td>In</td>\n",
       "      <td>True</td>\n",
       "      <td>nan</td>\n",
       "      <td>False</td>\n",
       "    </tr>\n",
       "    <tr>\n",
       "      <th>3</th>\n",
       "      <td>3</td>\n",
       "      <td>403-9615377-8133951</td>\n",
       "      <td>2022-04-30</td>\n",
       "      <td>Cancelled</td>\n",
       "      <td>Merchant</td>\n",
       "      <td>Amazon.in</td>\n",
       "      <td>Standard</td>\n",
       "      <td>J0341</td>\n",
       "      <td>J0341-DR-L</td>\n",
       "      <td>Western Dress</td>\n",
       "      <td>L</td>\n",
       "      <td>B099NRCT7B</td>\n",
       "      <td>nan</td>\n",
       "      <td>0</td>\n",
       "      <td>INR</td>\n",
       "      <td>753.33</td>\n",
       "      <td>Puducherry</td>\n",
       "      <td>Puducherry</td>\n",
       "      <td>605008</td>\n",
       "      <td>In</td>\n",
       "      <td>False</td>\n",
       "      <td>Easy Ship</td>\n",
       "      <td>False</td>\n",
       "    </tr>\n",
       "    <tr>\n",
       "      <th>4</th>\n",
       "      <td>4</td>\n",
       "      <td>407-1069790-7240320</td>\n",
       "      <td>2022-04-30</td>\n",
       "      <td>Shipped</td>\n",
       "      <td>Amazon</td>\n",
       "      <td>Amazon.in</td>\n",
       "      <td>Expedited</td>\n",
       "      <td>JNE3671</td>\n",
       "      <td>JNE3671-TU-XXXL</td>\n",
       "      <td>Top</td>\n",
       "      <td>3XL</td>\n",
       "      <td>B098714BZP</td>\n",
       "      <td>Shipped</td>\n",
       "      <td>1</td>\n",
       "      <td>INR</td>\n",
       "      <td>574.00</td>\n",
       "      <td>Chennai</td>\n",
       "      <td>Tamil Nadu</td>\n",
       "      <td>600073</td>\n",
       "      <td>In</td>\n",
       "      <td>False</td>\n",
       "      <td>nan</td>\n",
       "      <td>False</td>\n",
       "    </tr>\n",
       "  </tbody>\n",
       "</table>\n",
       "</div>"
      ],
      "text/plain": [
       "   index             Order ID       Date                        Status  \\\n",
       "0      0  405-8078784-5731545 2022-04-30                     Cancelled   \n",
       "1      1  171-9198151-1101146 2022-04-30  Shipped - Delivered to Buyer   \n",
       "2      2  404-0687676-7273146 2022-04-30                       Shipped   \n",
       "3      3  403-9615377-8133951 2022-04-30                     Cancelled   \n",
       "4      4  407-1069790-7240320 2022-04-30                       Shipped   \n",
       "\n",
       "  Fulfilment Sales Channel ship-service-level    Style              SKU  \\\n",
       "0   Merchant     Amazon.in           Standard   SET389   SET389-KR-NP-S   \n",
       "1   Merchant     Amazon.in           Standard  JNE3781  JNE3781-KR-XXXL   \n",
       "2     Amazon     Amazon.in          Expedited  JNE3371    JNE3371-KR-XL   \n",
       "3   Merchant     Amazon.in           Standard    J0341       J0341-DR-L   \n",
       "4     Amazon     Amazon.in          Expedited  JNE3671  JNE3671-TU-XXXL   \n",
       "\n",
       "        Category Size        ASIN Courier Status  Qty currency  Amount  \\\n",
       "0            Set    S  B09KXVBD7Z            nan    0      INR  647.62   \n",
       "1          kurta  3XL  B09K3WFS32        Shipped    1      INR  406.00   \n",
       "2          kurta   XL  B07WV4JV4D        Shipped    1      INR  329.00   \n",
       "3  Western Dress    L  B099NRCT7B            nan    0      INR  753.33   \n",
       "4            Top  3XL  B098714BZP        Shipped    1      INR  574.00   \n",
       "\n",
       "     ship-city   ship-state  ship-postal-code ship-country    B2B  \\\n",
       "0       Mumbai  Maharashtra            400081           In  False   \n",
       "1    Bengaluru    Karnataka            560085           In  False   \n",
       "2  Navi Mumbai  Maharashtra            410210           In   True   \n",
       "3   Puducherry   Puducherry            605008           In  False   \n",
       "4      Chennai   Tamil Nadu            600073           In  False   \n",
       "\n",
       "  fulfilled-by  Amount_is_null  \n",
       "0    Easy Ship           False  \n",
       "1    Easy Ship           False  \n",
       "2          nan           False  \n",
       "3    Easy Ship           False  \n",
       "4          nan           False  "
      ]
     },
     "execution_count": 3,
     "metadata": {},
     "output_type": "execute_result"
    }
   ],
   "source": [
    "# Copia de trabajo\n",
    "df_clean = df.copy()\n",
    "\n",
    "# Estandarizar nombres de columnas (strip + reemplazar dobles espacios)\n",
    "df_clean.columns = (\n",
    "    df_clean.columns.str.strip()\n",
    "                    .str.replace('\\s+', ' ', regex=True)\n",
    ")\n",
    "\n",
    "# Eliminar columnas irrelevantes si existen\n",
    "cols_drop = [c for c in ['Unnamed: 22', 'promotion-ids'] if c in df_clean.columns]\n",
    "if cols_drop:\n",
    "    df_clean = df_clean.drop(columns=cols_drop)\n",
    "\n",
    "# Parseo de fecha\n",
    "# El formato del CSV se ve como MM-DD-YY (ej: 04-30-22).\n",
    "if 'Date' in df_clean.columns:\n",
    "    df_clean['Date'] = pd.to_datetime(df_clean['Date'], format='%m-%d-%y', errors='coerce')\n",
    "\n",
    "# Coerción de tipos numéricos con seguridad (usa dtypes anulables de pandas)\n",
    "for col in ['Qty', 'Amount', 'ship-postal-code']:\n",
    "    if col in df_clean.columns:\n",
    "        # Intentar convertir a número\n",
    "        df_clean[col] = pd.to_numeric(df_clean[col], errors='coerce')\n",
    "        # Para códigos postales y Qty preferimos enteros anulables si aplica\n",
    "        if col in ['Qty', 'ship-postal-code']:\n",
    "            df_clean[col] = df_clean[col].astype('Int64')\n",
    "\n",
    "# Trim de strings en columnas categóricas típicas\n",
    "for col in ['Status', 'Fulfilment', 'Sales Channel ', 'ship-service-level', 'Style', 'SKU',\n",
    "            'Category', 'Size', 'ASIN', 'Courier Status', 'currency', 'ship-city',\n",
    "            'ship-state', 'ship-country', 'fulfilled-by']:\n",
    "    if col in df_clean.columns and df_clean[col].dtype == 'object':\n",
    "        df_clean[col] = df_clean[col].astype(str).str.strip()\n",
    "\n",
    "# Normalización de Ship Country, Ship State y Ship City\n",
    "import re\n",
    "import numpy as np\n",
    "\n",
    "def clean_location(s):\n",
    "    if pd.isna(s):\n",
    "        return s\n",
    "    s = str(s).strip(\" ,.;:-_/\\\\'\\\"()[]{}\")\n",
    "    s = re.sub(r\"\\s+\", \" \", s)\n",
    "    s = re.sub(r\",\\s*\", \", \", s)\n",
    "    s = s.lstrip(\", \").strip()\n",
    "    if re.fullmatch(r\"\\d+(\\.\\d+)?\", s) or len(s) <= 1:\n",
    "        return np.nan\n",
    "    return s.title()\n",
    "\n",
    "for col in ['ship-city', 'ship-state', 'ship-country']:\n",
    "    if col in df_clean.columns:\n",
    "        df_clean[col] = df_clean[col].apply(clean_location)\n",
    "\n",
    "# Marca de nulos en Amount\n",
    "if 'Amount' in df_clean.columns:\n",
    "    print(\"Nulos en Amount:\", df_clean['Amount'].isna().sum())\n",
    "    df_clean['Amount_is_null'] = df_clean['Amount'].isna()\n",
    "\n",
    "# Duplicados (mantenemos la primera ocurrencia)\n",
    "df_clean = df_clean.drop_duplicates()\n",
    "\n",
    "print('Shape después de limpieza:', df_clean.shape)\n",
    "df_clean.head()"
   ]
  },
  {
   "cell_type": "code",
   "execution_count": 4,
   "id": "b6b8b9a6",
   "metadata": {},
   "outputs": [
    {
     "name": "stdout",
     "output_type": "stream",
     "text": [
      "Filas con Date inválida (NaT) tras el parseo: 0\n",
      "Rango de fechas (min, max): 2022-03-31 00:00:00 2022-06-29 00:00:00\n"
     ]
    }
   ],
   "source": [
    "# Normalizar y asegurar la columna Date para Tableau\n",
    "# Parsear con formato explícito y contar fallas\n",
    "if 'Date' in df_clean.columns:\n",
    "    dt = pd.to_datetime(df_clean['Date'], format='%m-%d-%y', errors='coerce')\n",
    "    print(\"Filas con Date inválida (NaT) tras el parseo:\", int(dt.isna().sum()))\n",
    "    print(\"Rango de fechas (min, max):\", dt.min(), dt.max())\n",
    "    df_clean['Date'] = dt\n",
    "\n",
    "    # Crear columnas para Tableau\n",
    "    df_clean['Year_num']   = df_clean['Date'].dt.year\n",
    "    df_clean['Month_str']  = df_clean['Date'].dt.to_period('M').astype(str)  # '2022-04'\n",
    "    df_clean['Day_num']    = df_clean['Date'].dt.day\n",
    "    df_clean['Date_str']   = df_clean['Date'].dt.strftime('%Y-%m-%d')\n",
    "\n",
    "    # Export-friendly: formatear Date como string ISO (yyyy-mm-dd)\n",
    "    df_clean['Date_str'] = df_clean['Date'].dt.strftime('%Y-%m-%d')"
   ]
  },
  {
   "cell_type": "code",
   "execution_count": 5,
   "id": "59e6bd5f",
   "metadata": {},
   "outputs": [
    {
     "name": "stdout",
     "output_type": "stream",
     "text": [
      "Info post-limpieza:\n",
      "<class 'pandas.core.frame.DataFrame'>\n",
      "RangeIndex: 128975 entries, 0 to 128974\n",
      "Data columns (total 27 columns):\n",
      " #   Column              Non-Null Count   Dtype         \n",
      "---  ------              --------------   -----         \n",
      " 0   index               128975 non-null  int64         \n",
      " 1   Order ID            128975 non-null  object        \n",
      " 2   Date                128975 non-null  datetime64[ns]\n",
      " 3   Status              128975 non-null  object        \n",
      " 4   Fulfilment          128975 non-null  object        \n",
      " 5   Sales Channel       128975 non-null  object        \n",
      " 6   ship-service-level  128975 non-null  object        \n",
      " 7   Style               128975 non-null  object        \n",
      " 8   SKU                 128975 non-null  object        \n",
      " 9   Category            128975 non-null  object        \n",
      " 10  Size                128975 non-null  object        \n",
      " 11  ASIN                128975 non-null  object        \n",
      " 12  Courier Status      128975 non-null  object        \n",
      " 13  Qty                 128975 non-null  Int64         \n",
      " 14  currency            128975 non-null  object        \n",
      " 15  Amount              121180 non-null  float64       \n",
      " 16  ship-city           128973 non-null  object        \n",
      " 17  ship-state          128975 non-null  object        \n",
      " 18  ship-postal-code    128942 non-null  Int64         \n",
      " 19  ship-country        128975 non-null  object        \n",
      " 20  B2B                 128975 non-null  bool          \n",
      " 21  fulfilled-by        128975 non-null  object        \n",
      " 22  Amount_is_null      128975 non-null  bool          \n",
      " 23  Year_num            128975 non-null  int32         \n",
      " 24  Month_str           128975 non-null  object        \n",
      " 25  Day_num             128975 non-null  int32         \n",
      " 26  Date_str            128975 non-null  object        \n",
      "dtypes: Int64(2), bool(2), datetime64[ns](1), float64(1), int32(2), int64(1), object(18)\n",
      "memory usage: 24.1+ MB\n"
     ]
    },
    {
     "data": {
      "text/plain": [
       "None"
      ]
     },
     "metadata": {},
     "output_type": "display_data"
    },
    {
     "name": "stdout",
     "output_type": "stream",
     "text": [
      "\n",
      "Nulos post-limpieza (top 20):\n"
     ]
    },
    {
     "data": {
      "text/plain": [
       "Amount                7795\n",
       "ship-postal-code        33\n",
       "ship-city                2\n",
       "Status                   0\n",
       "Fulfilment               0\n",
       "Sales Channel            0\n",
       "ship-service-level       0\n",
       "Style                    0\n",
       "index                    0\n",
       "Order ID                 0\n",
       "Date                     0\n",
       "Size                     0\n",
       "Category                 0\n",
       "SKU                      0\n",
       "ASIN                     0\n",
       "currency                 0\n",
       "Qty                      0\n",
       "Courier Status           0\n",
       "ship-state               0\n",
       "ship-country             0\n",
       "dtype: int64"
      ]
     },
     "execution_count": 5,
     "metadata": {},
     "output_type": "execute_result"
    }
   ],
   "source": [
    "print('Info post-limpieza:')\n",
    "display(df_clean.info())\n",
    "print('\\nNulos post-limpieza (top 20):')\n",
    "df_clean.isna().sum().sort_values(ascending=False).head(20)"
   ]
  },
  {
   "cell_type": "markdown",
   "id": "2c9a0128",
   "metadata": {},
   "source": [
    "## Estadísticas descriptivas"
   ]
  },
  {
   "cell_type": "code",
   "execution_count": 6,
   "id": "69946f6e",
   "metadata": {},
   "outputs": [
    {
     "data": {
      "text/html": [
       "<div>\n",
       "<style scoped>\n",
       "    .dataframe tbody tr th:only-of-type {\n",
       "        vertical-align: middle;\n",
       "    }\n",
       "\n",
       "    .dataframe tbody tr th {\n",
       "        vertical-align: top;\n",
       "    }\n",
       "\n",
       "    .dataframe thead th {\n",
       "        text-align: right;\n",
       "    }\n",
       "</style>\n",
       "<table border=\"1\" class=\"dataframe\">\n",
       "  <thead>\n",
       "    <tr style=\"text-align: right;\">\n",
       "      <th></th>\n",
       "      <th>count</th>\n",
       "      <th>mean</th>\n",
       "      <th>std</th>\n",
       "      <th>min</th>\n",
       "      <th>25%</th>\n",
       "      <th>50%</th>\n",
       "      <th>75%</th>\n",
       "      <th>max</th>\n",
       "    </tr>\n",
       "  </thead>\n",
       "  <tbody>\n",
       "    <tr>\n",
       "      <th>index</th>\n",
       "      <td>128975.0</td>\n",
       "      <td>64487.0</td>\n",
       "      <td>37232.019822</td>\n",
       "      <td>0.0</td>\n",
       "      <td>32243.5</td>\n",
       "      <td>64487.0</td>\n",
       "      <td>96730.5</td>\n",
       "      <td>128974.0</td>\n",
       "    </tr>\n",
       "    <tr>\n",
       "      <th>Qty</th>\n",
       "      <td>128975.0</td>\n",
       "      <td>0.904431</td>\n",
       "      <td>0.313354</td>\n",
       "      <td>0.0</td>\n",
       "      <td>1.0</td>\n",
       "      <td>1.0</td>\n",
       "      <td>1.0</td>\n",
       "      <td>15.0</td>\n",
       "    </tr>\n",
       "    <tr>\n",
       "      <th>Amount</th>\n",
       "      <td>121180.0</td>\n",
       "      <td>648.561465</td>\n",
       "      <td>281.211687</td>\n",
       "      <td>0.0</td>\n",
       "      <td>449.0</td>\n",
       "      <td>605.0</td>\n",
       "      <td>788.0</td>\n",
       "      <td>5584.0</td>\n",
       "    </tr>\n",
       "    <tr>\n",
       "      <th>ship-postal-code</th>\n",
       "      <td>128942.0</td>\n",
       "      <td>463966.236509</td>\n",
       "      <td>191476.764941</td>\n",
       "      <td>110001.0</td>\n",
       "      <td>382421.0</td>\n",
       "      <td>500033.0</td>\n",
       "      <td>600024.0</td>\n",
       "      <td>989898.0</td>\n",
       "    </tr>\n",
       "    <tr>\n",
       "      <th>Year_num</th>\n",
       "      <td>128975.0</td>\n",
       "      <td>2022.0</td>\n",
       "      <td>0.0</td>\n",
       "      <td>2022.0</td>\n",
       "      <td>2022.0</td>\n",
       "      <td>2022.0</td>\n",
       "      <td>2022.0</td>\n",
       "      <td>2022.0</td>\n",
       "    </tr>\n",
       "    <tr>\n",
       "      <th>Day_num</th>\n",
       "      <td>128975.0</td>\n",
       "      <td>14.925978</td>\n",
       "      <td>8.742876</td>\n",
       "      <td>1.0</td>\n",
       "      <td>7.0</td>\n",
       "      <td>15.0</td>\n",
       "      <td>22.0</td>\n",
       "      <td>31.0</td>\n",
       "    </tr>\n",
       "  </tbody>\n",
       "</table>\n",
       "</div>"
      ],
      "text/plain": [
       "                     count           mean            std       min       25%  \\\n",
       "index             128975.0        64487.0   37232.019822       0.0   32243.5   \n",
       "Qty               128975.0       0.904431       0.313354       0.0       1.0   \n",
       "Amount            121180.0     648.561465     281.211687       0.0     449.0   \n",
       "ship-postal-code  128942.0  463966.236509  191476.764941  110001.0  382421.0   \n",
       "Year_num          128975.0         2022.0            0.0    2022.0    2022.0   \n",
       "Day_num           128975.0      14.925978       8.742876       1.0       7.0   \n",
       "\n",
       "                       50%       75%       max  \n",
       "index              64487.0   96730.5  128974.0  \n",
       "Qty                    1.0       1.0      15.0  \n",
       "Amount               605.0     788.0    5584.0  \n",
       "ship-postal-code  500033.0  600024.0  989898.0  \n",
       "Year_num            2022.0    2022.0    2022.0  \n",
       "Day_num               15.0      22.0      31.0  "
      ]
     },
     "metadata": {},
     "output_type": "display_data"
    },
    {
     "name": "stdout",
     "output_type": "stream",
     "text": [
      "\n",
      "Top valores en Status:\n"
     ]
    },
    {
     "data": {
      "text/plain": [
       "Status\n",
       "Shipped                          77804\n",
       "Shipped - Delivered to Buyer     28769\n",
       "Cancelled                        18332\n",
       "Shipped - Returned to Seller      1953\n",
       "Shipped - Picked Up                973\n",
       "Pending                            658\n",
       "Pending - Waiting for Pick Up      281\n",
       "Shipped - Returning to Seller      145\n",
       "Shipped - Out for Delivery          35\n",
       "Shipped - Rejected by Buyer         11\n",
       "Shipping                             8\n",
       "Shipped - Lost in Transit            5\n",
       "Shipped - Damaged                    1\n",
       "Name: count, dtype: int64"
      ]
     },
     "metadata": {},
     "output_type": "display_data"
    },
    {
     "name": "stdout",
     "output_type": "stream",
     "text": [
      "\n",
      "Top valores en Category:\n"
     ]
    },
    {
     "data": {
      "text/plain": [
       "Category\n",
       "Set              50284\n",
       "kurta            49877\n",
       "Western Dress    15500\n",
       "Top              10622\n",
       "Ethnic Dress      1159\n",
       "Blouse             926\n",
       "Bottom             440\n",
       "Saree              164\n",
       "Dupatta              3\n",
       "Name: count, dtype: int64"
      ]
     },
     "metadata": {},
     "output_type": "display_data"
    },
    {
     "name": "stdout",
     "output_type": "stream",
     "text": [
      "\n",
      "Top valores en Fulfilment:\n"
     ]
    },
    {
     "data": {
      "text/plain": [
       "Fulfilment\n",
       "Amazon      89698\n",
       "Merchant    39277\n",
       "Name: count, dtype: int64"
      ]
     },
     "metadata": {},
     "output_type": "display_data"
    },
    {
     "name": "stdout",
     "output_type": "stream",
     "text": [
      "\n",
      "Top valores en ship-city:\n"
     ]
    },
    {
     "data": {
      "text/plain": [
       "ship-city\n",
       "Bengaluru      11901\n",
       "Hyderabad       9132\n",
       "Mumbai          7125\n",
       "New Delhi       6340\n",
       "Chennai         6288\n",
       "Pune            4620\n",
       "Kolkata         2844\n",
       "Gurugram        1956\n",
       "Thane           1877\n",
       "Noida           1628\n",
       "Lucknow         1627\n",
       "Ghaziabad       1485\n",
       "Ahmedabad       1446\n",
       "Navi Mumbai     1404\n",
       "Bangalore       1364\n",
       "Name: count, dtype: int64"
      ]
     },
     "metadata": {},
     "output_type": "display_data"
    },
    {
     "name": "stdout",
     "output_type": "stream",
     "text": [
      "\n",
      "Top valores en ship-state:\n"
     ]
    },
    {
     "data": {
      "text/plain": [
       "ship-state\n",
       "Maharashtra       22260\n",
       "Karnataka         17326\n",
       "Tamil Nadu        11483\n",
       "Telangana         11330\n",
       "Uttar Pradesh     10638\n",
       "Delhi              6967\n",
       "Kerala             6585\n",
       "West Bengal        5963\n",
       "Andhra Pradesh     5430\n",
       "Gujarat            4489\n",
       "Haryana            4415\n",
       "Rajasthan          2711\n",
       "Madhya Pradesh     2529\n",
       "Odisha             2136\n",
       "Bihar              2114\n",
       "Name: count, dtype: int64"
      ]
     },
     "metadata": {},
     "output_type": "display_data"
    }
   ],
   "source": [
    "# Numéricas\n",
    "desc_num = df_clean.select_dtypes(include=['number']).describe().T\n",
    "display(desc_num)\n",
    "\n",
    "# Frecuencias categóricas clave\n",
    "for col in ['Status', 'Category', 'Fulfilment', 'Sales Channel ', 'ship-city', 'ship-state']:\n",
    "    if col in df_clean.columns:\n",
    "        print(f'\\nTop valores en {col}:')\n",
    "        display(df_clean[col].value_counts(dropna=False).head(15))"
   ]
  },
  {
   "cell_type": "markdown",
   "id": "35e0482c",
   "metadata": {},
   "source": [
    "## Análisis temporal"
   ]
  },
  {
   "cell_type": "code",
   "execution_count": 7,
   "id": "c04a1480",
   "metadata": {},
   "outputs": [
    {
     "data": {
      "text/plain": [
       "Date\n",
       "2022-03-31     101683.85\n",
       "2022-04-01     865478.60\n",
       "2022-04-02     913101.53\n",
       "2022-04-03    1011763.38\n",
       "2022-04-04     882059.17\n",
       "Name: Amount, dtype: float64"
      ]
     },
     "metadata": {},
     "output_type": "display_data"
    },
    {
     "data": {
      "image/png": "[encoded data removed]",
      "text/plain": [
       "<Figure size 1200x500 with 1 Axes>"
      ]
     },
     "metadata": {},
     "output_type": "display_data"
    },
    {
     "data": {
      "text/plain": [
       "month\n",
       "2022-03      101683.85\n",
       "2022-04    28838708.32\n",
       "2022-05    26226476.75\n",
       "2022-06    23425809.38\n",
       "Name: Amount, dtype: float64"
      ]
     },
     "metadata": {},
     "output_type": "display_data"
    },
    {
     "data": {
      "image/png": "[encoded data removed]",
      "text/plain": [
       "<Figure size 1000x400 with 1 Axes>"
      ]
     },
     "metadata": {},
     "output_type": "display_data"
    }
   ],
   "source": [
    "if 'Date' in df_clean.columns:\n",
    "    df_clean['year'] = df_clean['Date'].dt.year\n",
    "    df_clean['month'] = df_clean['Date'].dt.to_period('M').astype(str)\n",
    "    df_clean['day'] = df_clean['Date'].dt.date\n",
    "\n",
    "    # Ingresos diarios\n",
    "    if {'Date','Amount'}.issubset(df_clean.columns):\n",
    "        daily_rev = df_clean.groupby('Date', dropna=True)['Amount'].sum().sort_index()\n",
    "        display(daily_rev.head())\n",
    "\n",
    "        # Gráfico - usar matplotlib y no fijar colores específicos\n",
    "        plt.figure(figsize=(12,5))\n",
    "        plt.plot(daily_rev.index, daily_rev.values)\n",
    "        plt.title('Ingresos diarios')\n",
    "        plt.xlabel('Fecha'); plt.ylabel('Monto')\n",
    "        plt.tight_layout(); plt.show()\n",
    "\n",
    "    # Ingresos por mes\n",
    "    if {'month','Amount'}.issubset(df_clean.columns):\n",
    "        monthly_rev = df_clean.groupby('month')['Amount'].sum().sort_index()\n",
    "        display(monthly_rev.tail())\n",
    "\n",
    "        plt.figure(figsize=(10,4))\n",
    "        plt.plot(monthly_rev.index, monthly_rev.values)\n",
    "        plt.title('Ingresos mensuales')\n",
    "        plt.xticks(rotation=45)\n",
    "        plt.xlabel('Mes'); plt.ylabel('Monto')\n",
    "        plt.tight_layout(); plt.show()"
   ]
  },
  {
   "cell_type": "markdown",
   "id": "7eb45bdc",
   "metadata": {},
   "source": [
    "## Patrones por categoría, estado y fulfilment"
   ]
  },
  {
   "cell_type": "code",
   "execution_count": 8,
   "id": "a47d2c37",
   "metadata": {},
   "outputs": [
    {
     "data": {
      "image/png": "[encoded data removed]",
      "text/plain": [
       "<Figure size 800x400 with 1 Axes>"
      ]
     },
     "metadata": {},
     "output_type": "display_data"
    },
    {
     "data": {
      "image/png": "[encoded data removed]",
      "text/plain": [
       "<Figure size 800x400 with 1 Axes>"
      ]
     },
     "metadata": {},
     "output_type": "display_data"
    },
    {
     "data": {
      "image/png": "[encoded data removed]",
      "text/plain": [
       "<Figure size 800x400 with 1 Axes>"
      ]
     },
     "metadata": {},
     "output_type": "display_data"
    },
    {
     "data": {
      "image/png": "[encoded data removed]",
      "text/plain": [
       "<Figure size 800x400 with 1 Axes>"
      ]
     },
     "metadata": {},
     "output_type": "display_data"
    }
   ],
   "source": [
    "def bar_top(series, title, top=10):\n",
    "    vc = series.value_counts().head(top)\n",
    "    plt.figure(figsize=(8,4))\n",
    "    plt.bar(vc.index.astype(str), vc.values)\n",
    "    plt.title(title)\n",
    "    plt.xticks(rotation=45, ha='right')\n",
    "    plt.tight_layout()\n",
    "    plt.show()\n",
    "\n",
    "if 'Status' in df_clean.columns:\n",
    "    bar_top(df_clean['Status'], 'Pedidos por estado')\n",
    "if 'Category' in df_clean.columns:\n",
    "    bar_top(df_clean['Category'], 'Pedidos por categoría')\n",
    "if 'Fulfilment' in df_clean.columns:\n",
    "    bar_top(df_clean['Fulfilment'], 'Pedidos por tipo de fulfilment')\n",
    "if 'ship-city' in df_clean.columns:\n",
    "    bar_top(df_clean['ship-city'], 'Top 10 ciudades con más pedidos', top=10)"
   ]
  },
  {
   "cell_type": "markdown",
   "id": "0c3a0061",
   "metadata": {},
   "source": [
    "## Métricas clave de negocio"
   ]
  },
  {
   "cell_type": "code",
   "execution_count": 9,
   "id": "08cbff71",
   "metadata": {},
   "outputs": [
    {
     "data": {
      "text/plain": [
       "{'Ingresos totales': 78592678.29999998,\n",
       " 'Ticket promedio (Amount por fila válida)': 648.5614647631621,\n",
       " '% Cancelados': 14.21}"
      ]
     },
     "execution_count": 9,
     "metadata": {},
     "output_type": "execute_result"
    }
   ],
   "source": [
    "metrics = {}\n",
    "if 'Amount' in df_clean.columns:\n",
    "    metrics['Ingresos totales'] = float(np.nansum(df_clean['Amount']))\n",
    "if {'Qty','Amount'}.issubset(df_clean.columns):\n",
    "    metrics['Ticket promedio (Amount por fila válida)'] = float(np.nanmean(df_clean.loc[df_clean['Amount'].notna(), 'Amount']))\n",
    "if 'Status' in df_clean.columns:\n",
    "    total_orders = len(df_clean)\n",
    "    cancelled = int((df_clean['Status'] == 'Cancelled').sum())\n",
    "    metrics['% Cancelados'] = round(100*cancelled/total_orders, 2) if total_orders else np.nan\n",
    "\n",
    "metrics"
   ]
  },
  {
   "cell_type": "markdown",
   "id": "00765344",
   "metadata": {},
   "source": [
    "## Insights y observaciones"
   ]
  },
  {
   "cell_type": "markdown",
   "id": "561bf132",
   "metadata": {},
   "source": [
    "- **Calidad de datos**: Se detectaron valores nulos en columnas clave (por ejemplo, códigos postales). Se usaron dtypes anulables (`Int64`) para conservar filas sin forzar imputaciones.\n",
    "- **Temporalidad**: La columna `Date` fue parseada con formato `MM-DD-YY` y `errors='coerce'` para robustez.\n",
    "- **Ingresos**: Revisar picos y caídas en el gráfico de ingresos diarios/mensuales para asociarlos a campañas o eventos.\n",
    "- **Cancelaciones**: Ver el porcentaje de pedidos `Cancelled` y cruzarlo con `Fulfilment` o `ship-city` para encontrar focos de mejora logística.\n",
    "- **Top categorías/ciudades**: Observar qué categorías y ciudades concentran más pedidos para priorizar inventario y campañas.\n",
    "- **Próximos pasos**: Segmentar por `Courier Status`, analizar `Qty x Amount`, y detectar outliers en montos/qty; agregar mapa si se dispone de coordenadas."
   ]
  },
  {
   "cell_type": "markdown",
   "id": "33d11885",
   "metadata": {},
   "source": [
    "## Export del dataset limpio (CSV)"
   ]
  },
  {
   "cell_type": "code",
   "execution_count": 10,
   "id": "303f8da2",
   "metadata": {},
   "outputs": [
    {
     "data": {
      "text/plain": [
       "'Archivo exportado: Amazon_Sale_Report_CLEAN.csv'"
      ]
     },
     "execution_count": 10,
     "metadata": {},
     "output_type": "execute_result"
    }
   ],
   "source": [
    "df_clean['Amount'] = df_clean['Amount'].round(2) # asegurar formato correcto\n",
    "df_clean.to_csv(\"Amazon_Sale_Report_CLEAN.csv\", index=False, sep=';', decimal=',') # Usar ; como separador y , como decimal\n",
    "'Archivo exportado: Amazon_Sale_Report_CLEAN.csv'"
   ]
  },
  {
   "cell_type": "code",
   "execution_count": 11,
   "id": "6a92b9a3",
   "metadata": {},
   "outputs": [
    {
     "name": "stdout",
     "output_type": "stream",
     "text": [
      "Date inválidas (NaT): 0\n",
      "Columnas totales: 27 | únicas: 27\n",
      "TSV exportado: Amazon_Sale_Report_CLEAN_TABLEAU.tsv\n"
     ]
    }
   ],
   "source": [
    "# Consolidación final de columnas + export para Tableau\n",
    "import csv\n",
    "\n",
    "# Partes de fecha con nombres inequívocos\n",
    "if 'Date' in df_clean.columns:\n",
    "    # Asegurar datetime y contar fallas\n",
    "    dt = pd.to_datetime(df_clean['Date'], format='%m-%d-%y', errors='coerce')\n",
    "    print(\"Date inválidas (NaT):\", int(dt.isna().sum()))\n",
    "    df_clean['Date'] = dt\n",
    "\n",
    "    # Columnas derivadas \"claras\"\n",
    "    df_clean['Year_num']  = df_clean['Date'].dt.year\n",
    "    df_clean['Month_str'] = df_clean['Date'].dt.to_period('M').astype(str)  # 'YYYY-MM'\n",
    "    df_clean['Day_num']   = df_clean['Date'].dt.day\n",
    "    df_clean['Date_str']  = df_clean['Date'].dt.strftime('%Y-%m-%d')       # ISO\n",
    "\n",
    "# Eliminar posibles duplicados de nombres (Year vs year, etc.)\n",
    "rename_map = {}\n",
    "for old, new in [\n",
    "    ('year', 'Year_num'),\n",
    "    ('Year', 'Year_num'),\n",
    "    ('month', 'Month_str'),\n",
    "    ('Month', 'Month_str'),\n",
    "    ('day', 'Day_num'),\n",
    "    ('Day', 'Day_num'),\n",
    "]:\n",
    "    if old in df_clean.columns and new in df_clean.columns and old != new:\n",
    "        # Si están ambos, borro el duplicado \"old\"\n",
    "        df_clean = df_clean.drop(columns=[old])\n",
    "    elif old in df_clean.columns and new not in df_clean.columns:\n",
    "        rename_map[old] = new\n",
    "\n",
    "if rename_map:\n",
    "    df_clean = df_clean.rename(columns=rename_map)\n",
    "\n",
    "# Verificación de unicidad de nombres\n",
    "n_cols = len(df_clean.columns)\n",
    "n_unique = df_clean.columns.nunique()\n",
    "print(f\"Columnas totales: {n_cols} | únicas: {n_unique}\")\n",
    "if n_cols != n_unique:\n",
    "    # Si aún quedara algo duplicado por espacios invisibles, los normalizo\n",
    "    df_clean.columns = (\n",
    "        pd.Series(df_clean.columns)\n",
    "          .str.strip()\n",
    "          .str.replace(r\"\\s+\", \" \", regex=True)\n",
    "    )\n",
    "    assert df_clean.columns.nunique() == len(df_clean.columns), \"Aún hay nombres duplicados.\"\n",
    "\n",
    "\n",
    "#  TSV: evita conflictos de separadores regionales (recomendado si Tableau recorta columnas)\n",
    "tsv_path = \"Amazon_Sale_Report_CLEAN_TABLEAU.tsv\"\n",
    "df_clean.to_csv(\n",
    "    tsv_path,\n",
    "    sep='\\t',               # DELIMITADOR TAB\n",
    "    index=False,\n",
    "    encoding='utf-8',\n",
    "    quoting=csv.QUOTE_MINIMAL,\n",
    "    lineterminator='\\n'\n",
    ")\n",
    "print(\"TSV exportado:\", tsv_path)\n"
   ]
  }
 ],
 "metadata": {
  "kernelspec": {
   "display_name": "Python 3",
   "language": "python",
   "name": "python3"
  },
  "language_info": {
   "codemirror_mode": {
    "name": "ipython",
    "version": 3
   },
   "file_extension": ".py",
   "mimetype": "text/x-python",
   "name": "python",
   "nbconvert_exporter": "python",
   "pygments_lexer": "ipython3",
   "version": "3.11.9"
  }
 },
 "nbformat": 4,
 "nbformat_minor": 5
}
